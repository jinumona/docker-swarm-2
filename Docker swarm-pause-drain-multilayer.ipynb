{
 "cells": [
  {
   "cell_type": "markdown",
   "id": "f1efbdc7",
   "metadata": {},
   "source": [
    "### docker node update --availability pause"
   ]
  },
  {
   "cell_type": "code",
   "execution_count": null,
   "id": "d52df283",
   "metadata": {},
   "outputs": [],
   "source": [
    "# docker node ls\n",
    "ID                            HOSTNAME                                       STATUS    AVAILABILITY   MANAGER STATUS   ENGINE VERSION\n",
    "ljcwwjcjqtivduc2hppuaalkq *   ip-172-31-34-86.ap-south-1.compute.internal    Ready     Active         Leader           20.10.13\n",
    "y3ro2fe86icztsuasjqr5dgon     ip-172-31-34-88.ap-south-1.compute.internal    Ready     Active                          20.10.13\n",
    "dupmpbug9qx4fgmzrdybbv5rd     ip-172-31-37-234.ap-south-1.compute.internal   Ready     Active                          20.10.13\n",
    "we9w3fhr9djrt5p8p07hmyq5i     ip-172-31-47-139.ap-south-1.compute.internal   Ready     Active                          20.10.13\n",
    "\n",
    "$ docker node update --availability pause ip-172-31-34-86.ap-south-1.compute.internal\n",
    "\n",
    "ip-172-31-34-86.ap-south-1.compute.internal\n",
    "[root@ip-172-31-34-86 ec2-user]# docker node ls\n",
    "ID                            HOSTNAME                                       STATUS    AVAILABILITY   MANAGER STATUS   ENGINE VERSION\n",
    "ljcwwjcjqtivduc2hppuaalkq *   ip-172-31-34-86.ap-south-1.compute.internal    Ready     Pause          Leader           20.10.13\n",
    "y3ro2fe86icztsuasjqr5dgon     ip-172-31-34-88.ap-south-1.compute.internal    Ready     Active                          20.10.13\n",
    "dupmpbug9qx4fgmzrdybbv5rd     ip-172-31-37-234.ap-south-1.compute.internal   Ready     Active                          20.10.13\n",
    "we9w3fhr9djrt5p8p07hmyq5i     ip-172-31-47-139.ap-south-1.compute.internal   Ready     Active                          20.10.13"
   ]
  },
  {
   "cell_type": "markdown",
   "id": "fb282502",
   "metadata": {},
   "source": [
    "### overlay "
   ]
  },
  {
   "cell_type": "code",
   "execution_count": null,
   "id": "aedab5e7",
   "metadata": {},
   "outputs": [],
   "source": [
    "#Overlay used for communication of remote machines"
   ]
  },
  {
   "cell_type": "code",
   "execution_count": null,
   "id": "5a3087e2",
   "metadata": {},
   "outputs": [],
   "source": [
    "$ docker network create --driver overlay geolocation-net\n",
    "\n",
    "4pfb1yq1fjd3up04tbdpvvsu4\n",
    "\n",
    "$ docker network ls\n",
    "NETWORK ID     NAME              DRIVER    SCOPE\n",
    "9c40b87f6bf4   bridge            bridge    local\n",
    "416d5d8e1641   docker_gwbridge   bridge    local\n",
    "4pfb1yq1fjd3   geolocation-net   overlay   swarm\n",
    "cda6d6a906a2   host              host      local\n",
    "awgr73x9gv2r   ingress           overlay   swarm\n",
    "7e1484f89127   none              null      local"
   ]
  },
  {
   "cell_type": "markdown",
   "id": "7601f7a6",
   "metadata": {},
   "source": [
    "## A manager, 4 api container relicas and 4 front end replicas in two worker instances and one redis container"
   ]
  },
  {
   "cell_type": "markdown",
   "id": "ad0d8af7",
   "metadata": {},
   "source": [
    "### Labeling"
   ]
  },
  {
   "cell_type": "code",
   "execution_count": null,
   "id": "7a35c635",
   "metadata": {},
   "outputs": [],
   "source": [
    "$ docker node ls\n",
    "ID                            HOSTNAME                                       STATUS    AVAILABILITY   MANAGER STATUS   ENGINE VERSION\n",
    "ljcwwjcjqtivduc2hppuaalkq *   ip-172-31-34-86.ap-south-1.compute.internal    Ready     Pause          Leader           20.10.13\n",
    "y3ro2fe86icztsuasjqr5dgon     ip-172-31-34-88.ap-south-1.compute.internal    Ready     Active                          20.10.13\n",
    "dupmpbug9qx4fgmzrdybbv5rd     ip-172-31-37-234.ap-south-1.compute.internal   Ready     Active                          20.10.13\n",
    "we9w3fhr9djrt5p8p07hmyq5i     ip-172-31-47-139.ap-south-1.compute.internal   Ready     Active                          20.10.13\n",
    "\n",
    "#for redis container  label\n",
    "\n",
    "$ docker node update --label-add resource=ram ip-172-31-37-234.ap-south-1.compute.internal\n",
    "\n",
    "#for other two workers\n",
    "\n",
    "$ docker node update --label-add resource=cpu ip-172-31-34-88.ap-south-1.compute.internal\n",
    "\n",
    "$ docker node update --label-add resource=cpu ip-172-31-47-139.ap-south-1.compute.internal\n"
   ]
  },
  {
   "cell_type": "code",
   "execution_count": null,
   "id": "25349405",
   "metadata": {},
   "outputs": [],
   "source": [
    "$ docker node inspect ip-172-31-37-234.ap-south-1.compute.internal|grep -i label -A 3\n",
    "\n",
    "            \"Labels\": {\n",
    "                \"resource\": \"ram\"\n",
    "            },\n",
    "            \"Role\": \"worker\",\n"
   ]
  },
  {
   "cell_type": "markdown",
   "id": "ec15dd29",
   "metadata": {},
   "source": [
    "### Creating redis container service"
   ]
  },
  {
   "cell_type": "code",
   "execution_count": null,
   "id": "65744126",
   "metadata": {},
   "outputs": [],
   "source": [
    "$ docker service create \\\n",
    "--name geolocation-caching \\\n",
    "--constraint node.labels.resource==ram \\\n",
    "--replicas 1 \\\n",
    "--network geolocation-net \\\n",
    "redis:latest"
   ]
  },
  {
   "cell_type": "code",
   "execution_count": null,
   "id": "50a5f7f5",
   "metadata": {},
   "outputs": [],
   "source": [
    "$ docker service ls\n",
    "\n",
    "ID             NAME                  MODE         REPLICAS   IMAGE          PORTS\n",
    "exjphcvbp7mw   geolocation-caching   replicated   1/1        redis:latest   \n",
    "    \n",
    "$ docker service ps geolocation-caching\n",
    "ID             NAME                    IMAGE          NODE                                           DESIRED STATE   CURRENT STATE           ERROR     PORTS\n",
    "jkxnan25ywnc   geolocation-caching.1   redis:latest   ip-172-31-37-234.ap-south-1.compute.internal   Running         Running 3 minutes ago "
   ]
  },
  {
   "cell_type": "code",
   "execution_count": null,
   "id": "1e708adc",
   "metadata": {},
   "outputs": [],
   "source": []
  },
  {
   "cell_type": "markdown",
   "id": "7305bc9b",
   "metadata": {},
   "source": [
    "### apicaching"
   ]
  },
  {
   "cell_type": "code",
   "execution_count": null,
   "id": "05d3822a",
   "metadata": {},
   "outputs": [],
   "source": [
    "$ docker service create \\\n",
    "--name geolocation-api \\\n",
    "--constraint node.labels.resource==cpu \\\n",
    "--replicas 4 \\\n",
    "--network geolocation-net \\\n",
    "-e REDIS_PORT=\"6379\" \\\n",
    "-e REDIS_HOST=\"geolocation-caching\" \\\n",
    "-e APP_PORT=\"8080\" \\\n",
    "-e API_KEY=\"6a77a7aac63e4ed69a78f5d6c8cbe0f4\" \\\n",
    "jinumona/ipgeolocation-api-redis:v2"
   ]
  },
  {
   "cell_type": "code",
   "execution_count": null,
   "id": "95413dcd",
   "metadata": {},
   "outputs": [],
   "source": [
    "$ docker service ls\n",
    "ID             NAME                  MODE         REPLICAS   IMAGE                                 PORTS\n",
    "g9z11k8gq20j   geolocation-api       replicated   4/4        jinumona/ipgeolocation-api-redis:v2   \n",
    "exjphcvbp7mw   geolocation-caching   replicated   1/1        redis:latest \n",
    "\n",
    "$ docker service ps geolocation-api\n",
    "ID             NAME                IMAGE                                 NODE                                           DESIRED STATE   CURRENT STATE           ERROR     PORTS\n",
    "pclcstj07353   geolocation-api.1   jinumona/ipgeolocation-api-redis:v2   ip-172-31-47-139.ap-south-1.compute.internal   Running         Running 2 minutes ago             \n",
    "335j69lyqk02   geolocation-api.2   jinumona/ipgeolocation-api-redis:v2   ip-172-31-34-88.ap-south-1.compute.internal    Running         Running 2 minutes ago             \n",
    "lodmal0mu9bu   geolocation-api.3   jinumona/ipgeolocation-api-redis:v2   ip-172-31-47-139.ap-south-1.compute.internal   Running         Running 2 minutes ago             \n",
    "u0z888vkk1tv   geolocation-api.4   jinumona/ipgeolocation-api-redis:v2   ip-172-31-34-88.ap-south-1.compute.internal    Running         Running 2 minutes ago "
   ]
  },
  {
   "cell_type": "markdown",
   "id": "3c71213c",
   "metadata": {},
   "source": [
    "### frontend"
   ]
  },
  {
   "cell_type": "code",
   "execution_count": null,
   "id": "1cd03db2",
   "metadata": {},
   "outputs": [],
   "source": [
    "$ docker service create \\\n",
    "--name geolocation-frontend \\\n",
    "--constraint node.labels.resource==cpu \\\n",
    "--replicas 4 \\\n",
    "--network geolocation-net \\\n",
    "-e API_SERVER=\"geolocation-api\" \\\n",
    "-e API_SERVER_PORT=\"8080\" \\\n",
    "-e APP_PORT=\"8080\" \\\n",
    "-p 80:8080 \\\n",
    "jinumona/ipgeolocation-frontend:v2"
   ]
  },
  {
   "cell_type": "code",
   "execution_count": null,
   "id": "6cd67bc7",
   "metadata": {},
   "outputs": [],
   "source": [
    "$ docker service ls\n",
    "ID             NAME                   MODE         REPLICAS   IMAGE                                 PORTS\n",
    "g9z11k8gq20j   geolocation-api        replicated   4/4        jinumona/ipgeolocation-api-redis:v2   \n",
    "exjphcvbp7mw   geolocation-caching    replicated   1/1        redis:latest                          \n",
    "vtlnkq3nm424   geolocation-frontend   replicated   4/4        jinumona/ipgeolocation-frontend:v2    *:80->8080/tcp\n"
   ]
  },
  {
   "cell_type": "code",
   "execution_count": null,
   "id": "50fdcc56",
   "metadata": {},
   "outputs": [],
   "source": [
    "$ docker service ps geolocation-frontend\n",
    "ID             NAME                     IMAGE                                NODE                                           DESIRED STATE   CURRENT STATE                ERROR     PORTS\n",
    "ywouifjv82lz   geolocation-frontend.1   jinumona/ipgeolocation-frontend:v2   ip-172-31-47-139.ap-south-1.compute.internal   Running         Running about a minute ago             \n",
    "ewqm09zbaubz   geolocation-frontend.2   jinumona/ipgeolocation-frontend:v2   ip-172-31-34-88.ap-south-1.compute.internal    Running         Running about a minute ago             \n",
    "ro0day6zrvzd   geolocation-frontend.3   jinumona/ipgeolocation-frontend:v2   ip-172-31-47-139.ap-south-1.compute.internal   Running         Running about a minute ago             \n",
    "j848mfhmnvuk   geolocation-frontend.4   jinumona/ipgeolocation-frontend:v2   ip-172-31-34-88.ap-south-1.compute.internal    Running         Running about a minute ago             \n"
   ]
  },
  {
   "cell_type": "markdown",
   "id": "eea13733",
   "metadata": {},
   "source": [
    "#### we can access http://3.108.227.61/ip/8.8.8.8 from any server including manager,redis,workers etc"
   ]
  },
  {
   "cell_type": "code",
   "execution_count": null,
   "id": "056b0b7e",
   "metadata": {},
   "outputs": [],
   "source": [
    "manager >>[root@ip-172-31-34-86 ec2-user]# netstat -ntlp|grep 80\n",
    "tcp6       0      0 :::80                   :::*                    LISTEN      3082/dockerd \n",
    "                        \n",
    "redis>>[root@ip-172-31-37-234 ec2-user]# netstat -ntlp|grep 80\n",
    "tcp6       0      0 :::80                   :::*                    LISTEN      3487/dockerd \n",
    "\n",
    "worker1>>[root@ip-172-31-47-139 ec2-user]# netstat -ntlp|grep 80\n",
    "tcp6       0      0 :::80                   :::*                    LISTEN      3487/dockerd\n",
    "                        \n",
    "worker2>>[root@ip-172-31-34-88 ec2-user]# netstat -ntlp|grep 80\n",
    "tcp6       0      0 :::80                   :::*                    LISTEN      3493/dockerd                        "
   ]
  },
  {
   "cell_type": "markdown",
   "id": "96b05b9c",
   "metadata": {},
   "source": [
    "### ALB "
   ]
  },
  {
   "cell_type": "code",
   "execution_count": null,
   "id": "d6e46e66",
   "metadata": {},
   "outputs": [],
   "source": [
    "#target group 80. alb listener 80 and redorect to 443 and 443 lister with ACM certificate\n",
    "add alb to route 53\n"
   ]
  },
  {
   "cell_type": "code",
   "execution_count": null,
   "id": "e05caec0",
   "metadata": {},
   "outputs": [],
   "source": [
    "#  https://geolocation.inenso.in/ip/8.8.8.8\n",
    "    \n",
    "$ curl -IL http://geolocation.inenso.in\n",
    "HTTP/1.1 301 Moved Permanently\n",
    "Server: awselb/2.0\n",
    "Date: Wed, 22 Jun 2022 07:08:44 GMT\n",
    "Content-Type: text/html\n",
    "Content-Length: 134\n",
    "Connection: keep-alive\n",
    "Location: https://geolocation.inenso.in:443/\n",
    "\n",
    "HTTP/2 200 \n",
    "date: Wed, 22 Jun 2022 07:08:45 GMT\n",
    "content-type: text/html; charset=utf-8\n",
    "content-length: 683\n",
    "server: Werkzeug/2.0.2 Python/3.6.9"
   ]
  },
  {
   "cell_type": "markdown",
   "id": "69ef9306",
   "metadata": {},
   "source": [
    "### Making one node for maintenance: drain mode"
   ]
  },
  {
   "cell_type": "code",
   "execution_count": null,
   "id": "0b612bb0",
   "metadata": {},
   "outputs": [],
   "source": [
    "$ docker node ls\n",
    "ID                            HOSTNAME                                       STATUS    AVAILABILITY   MANAGER STATUS   ENGINE VERSION\n",
    "ljcwwjcjqtivduc2hppuaalkq *   ip-172-31-34-86.ap-south-1.compute.internal    Ready     Pause          Leader           20.10.13\n",
    "y3ro2fe86icztsuasjqr5dgon     ip-172-31-34-88.ap-south-1.compute.internal    Ready     Active                          20.10.13\n",
    "dupmpbug9qx4fgmzrdybbv5rd     ip-172-31-37-234.ap-south-1.compute.internal   Ready     Active                          20.10.13\n",
    "we9w3fhr9djrt5p8p07hmyq5i     ip-172-31-47-139.ap-south-1.compute.internal   Ready     Active                          20.10.13\n",
    "\n",
    "$ docker node update --availability drain ip-172-31-34-88.ap-south-1.compute.internal\n",
    "\n",
    "\n",
    "$ docker service ps geolocation-frontend\n",
    "ID             NAME                         IMAGE                                NODE                                           DESIRED STATE   CURRENT STATE                 ERROR     PORTS\n",
    "ywouifjv82lz   geolocation-frontend.1       jinumona/ipgeolocation-frontend:v2   ip-172-31-47-139.ap-south-1.compute.internal   Running         Running 38 minutes ago                  \n",
    "4piainkv8rmp   geolocation-frontend.2       jinumona/ipgeolocation-frontend:v2   ip-172-31-47-139.ap-south-1.compute.internal   Running         Running about a minute ago              \n",
    "ewqm09zbaubz    \\_ geolocation-frontend.2   jinumona/ipgeolocation-frontend:v2   ip-172-31-34-88.ap-south-1.compute.internal    Shutdown        Shutdown about a minute ago             \n",
    "ro0day6zrvzd   geolocation-frontend.3       jinumona/ipgeolocation-frontend:v2   ip-172-31-47-139.ap-south-1.compute.internal   Running         Running 38 minutes ago                  \n",
    "w2xzbmri8upw   geolocation-frontend.4       jinumona/ipgeolocation-frontend:v2   ip-172-31-47-139.ap-south-1.compute.internal   Running         Running about a minute ago              \n",
    "j848mfhmnvuk    \\_ geolocation-frontend.4   jinumona/ipgeolocation-frontend:v2   ip-172-31-34-88.ap-south-1.compute.internal    Shutdown        Shutdown about a minute ago             \n",
    "\n",
    "$ docker service ls\n",
    "ID             NAME                   MODE         REPLICAS   IMAGE                                 PORTS\n",
    "g9z11k8gq20j   geolocation-api        replicated   4/4        jinumona/ipgeolocation-api-redis:v2   \n",
    "exjphcvbp7mw   geolocation-caching    replicated   1/1        redis:latest                          \n",
    "vtlnkq3nm424   geolocation-frontend   replicated   4/4        jinumona/ipgeolocation-frontend:v2    *:80->8080/tcp\n",
    "\n",
    "$ docker service ps geolocation-api\n",
    "ID             NAME                    IMAGE                                 NODE                                           DESIRED STATE   CURRENT STATE                 ERROR     PORTS\n",
    "pclcstj07353   geolocation-api.1       jinumona/ipgeolocation-api-redis:v2   ip-172-31-47-139.ap-south-1.compute.internal   Running         Running 58 minutes ago                  \n",
    "9m7aaonk4fbq   geolocation-api.2       jinumona/ipgeolocation-api-redis:v2   ip-172-31-47-139.ap-south-1.compute.internal   Running         Running about a minute ago              \n",
    "335j69lyqk02    \\_ geolocation-api.2   jinumona/ipgeolocation-api-redis:v2   ip-172-31-34-88.ap-south-1.compute.internal    Shutdown        Shutdown about a minute ago             \n",
    "lodmal0mu9bu   geolocation-api.3       jinumona/ipgeolocation-api-redis:v2   ip-172-31-47-139.ap-south-1.compute.internal   Running         Running 58 minutes ago                  \n",
    "ged73fyit3hf   geolocation-api.4       jinumona/ipgeolocation-api-redis:v2   ip-172-31-47-139.ap-south-1.compute.internal   Running         Running about a minute ago              \n",
    "u0z888vkk1tv    \\_ geolocation-api.4   jinumona/ipgeolocation-api-redis:v2   ip-172-31-34-88.ap-south-1.compute.internal    Shutdown        Shutdown about a minute ago  "
   ]
  },
  {
   "cell_type": "code",
   "execution_count": null,
   "id": "c164a14f",
   "metadata": {},
   "outputs": [],
   "source": [
    "$ docker node ls\n",
    "ID                            HOSTNAME                                       STATUS    AVAILABILITY   MANAGER STATUS   ENGINE VERSION\n",
    "ljcwwjcjqtivduc2hppuaalkq *   ip-172-31-34-86.ap-south-1.compute.internal    Ready     Pause          Leader           20.10.13\n",
    "y3ro2fe86icztsuasjqr5dgon     ip-172-31-34-88.ap-south-1.compute.internal    Ready     Drain                           20.10.13\n",
    "dupmpbug9qx4fgmzrdybbv5rd     ip-172-31-37-234.ap-south-1.compute.internal   Ready     Active                          20.10.13\n",
    "we9w3fhr9djrt5p8p07hmyq5i     ip-172-31-47-139.ap-south-1.compute.internal   Ready     Active                          20.10.13\n"
   ]
  },
  {
   "cell_type": "markdown",
   "id": "e978a7cb",
   "metadata": {},
   "source": [
    "### docker swarm leave"
   ]
  },
  {
   "cell_type": "code",
   "execution_count": null,
   "id": "3e0ae775",
   "metadata": {},
   "outputs": [],
   "source": [
    "#ssh  to swarm drained node\n",
    "\n",
    "[root@ip-172-31-34-88 ec2-user]# docker swarm leave\n",
    "Node left the swarm.\n"
   ]
  },
  {
   "cell_type": "markdown",
   "id": "9d3f6c2f",
   "metadata": {},
   "source": [
    "#### At manager"
   ]
  },
  {
   "cell_type": "code",
   "execution_count": null,
   "id": "35e83c0a",
   "metadata": {},
   "outputs": [],
   "source": [
    "$ docker node ls\n",
    "ID                            HOSTNAME                                       STATUS    AVAILABILITY   MANAGER STATUS   ENGINE VERSION\n",
    "ljcwwjcjqtivduc2hppuaalkq *   ip-172-31-34-86.ap-south-1.compute.internal    Ready     Pause          Leader           20.10.13\n",
    "y3ro2fe86icztsuasjqr5dgon     ip-172-31-34-88.ap-south-1.compute.internal    Down      Drain                           20.10.13\n",
    "dupmpbug9qx4fgmzrdybbv5rd     ip-172-31-37-234.ap-south-1.compute.internal   Ready     Active                          20.10.13\n",
    "we9w3fhr9djrt5p8p07hmyq5i     ip-172-31-47-139.ap-south-1.compute.internal   Ready     Active                          20.10.13\n",
    "\n",
    "\n",
    "\n",
    "$ docker node rm ip-172-31-34-88.ap-south-1.compute.internal\n",
    "ip-172-31-34-88.ap-south-1.compute.internal\n",
    "\n",
    "$ docker node ls\n",
    "ID                            HOSTNAME                                       STATUS    AVAILABILITY   MANAGER STATUS   ENGINE VERSION\n",
    "ljcwwjcjqtivduc2hppuaalkq *   ip-172-31-34-86.ap-south-1.compute.internal    Ready     Pause          Leader           20.10.13\n",
    "dupmpbug9qx4fgmzrdybbv5rd     ip-172-31-37-234.ap-south-1.compute.internal   Ready     Active                          20.10.13\n",
    "we9w3fhr9djrt5p8p07hmyq5i     ip-172-31-47-139.ap-south-1.compute.internal   Ready     Active                          20.10.13"
   ]
  }
 ],
 "metadata": {
  "kernelspec": {
   "display_name": "Python 3 (ipykernel)",
   "language": "python",
   "name": "python3"
  },
  "language_info": {
   "codemirror_mode": {
    "name": "ipython",
    "version": 3
   },
   "file_extension": ".py",
   "mimetype": "text/x-python",
   "name": "python",
   "nbconvert_exporter": "python",
   "pygments_lexer": "ipython3",
   "version": "3.10.4"
  }
 },
 "nbformat": 4,
 "nbformat_minor": 5
}
